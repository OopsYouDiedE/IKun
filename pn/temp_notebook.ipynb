{
 "cells": [
  {
   "cell_type": "markdown",
   "id": "57ae8ebe",
   "metadata": {},
   "source": [
    "\n",
    "可以使用Python来计算1000000以内的最大素数。下面是一段使用埃拉托斯特尼筛法（Sieve of Eratosthenes）来高效计算最大素数的代码：\n"
   ]
  },
  {
   "cell_type": "code",
   "execution_count": null,
   "id": "173d59bc",
   "metadata": {},
   "outputs": [],
   "source": [
    "def sieve_of_eratosthenes(limit):\n",
    "    # 创建一个布尔数组来标记每个数是否为素数\n",
    "    is_prime = [True] * (limit + 1)\n",
    "    is_prime[0], is_prime[1] = False, False  # 0和1不是素数\n",
    "\n",
    "    # 从2开始标记其倍数为非素数\n",
    "    for start in range(2, int(limit**0.5) + 1):\n",
    "        if is_prime[start]:\n",
    "            for multiple in range(start*start, limit + 1, start):\n",
    "                is_prime[multiple] = False\n",
    "\n",
    "    # 找到最后一个为True的索引（即最大素数）\n",
    "    for num in range(limit, 1, -1):\n",
    "        if is_prime[num]:\n",
    "            return num\n",
    "\n",
    "# 计算1000000以内的最大素数\n",
    "max_prime = sieve_of_eratosthenes(1000000)\n",
    "print(\"1000000以内的最大素数是:\", max_prime)"
   ]
  },
  {
   "cell_type": "markdown",
   "id": "d408af39",
   "metadata": {},
   "source": [
    "\n",
    "这段代码首先创建一个布尔数组`is_prime`，用来标记每个数是否为素数。然后通过埃拉托斯特尼筛法标记所有非素数。最后，找到最大素数并打印出来。\n",
    "\n"
   ]
  }
 ],
 "metadata": {},
 "nbformat": 4,
 "nbformat_minor": 5
}

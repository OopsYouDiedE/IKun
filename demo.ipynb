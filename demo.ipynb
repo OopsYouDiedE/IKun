{
 "cells": [
  {
   "cell_type": "code",
   "execution_count": 1,
   "metadata": {},
   "outputs": [],
   "source": [
    "from ikun.core import OpenAIBackend\n",
    "\n",
    "OpenAIBackend.config(api_key = \"sk-cRk2eMr7OMij3FKyD4C41a291c9943018728C3D479Dd1e99\",\n",
    "                     base_url = \"https://chatapi.onechats.top/v1/\")"
   ]
  },
  {
   "cell_type": "code",
   "execution_count": 2,
   "metadata": {
    "collapsed": false
   },
   "outputs": [],
   "source": [
    "from ikun.modules import WriteAnalysisCode\n",
    "writer=WriteAnalysisCode()"
   ]
  },
  {
   "cell_type": "code",
   "execution_count": 3,
   "metadata": {
    "is_executing": true
   },
   "outputs": [
    {
     "name": "stdout",
     "output_type": "stream",
     "text": [
      "[{'role': 'system', 'content': \"As a data scientist, you need to help user to achieve their goal step by step in a continuous Jupyter notebook. Since it is a notebook environment, don't use asyncio.run. Instead, use await if you need to call an async function.\"}, {'role': 'user', 'content': '\\n# Goal\\n计算1234485之前的最大质数。\\n\\n# Constraints\\n- You need to write the code to complete the goal perfectly.\\n- Ensure the output new code is executable in the same Jupyter notebook as the previous executed code.\\n- Always prioritize using pre-defined tools for the same functionality.\\n\\n# Output\\nWhile some concise thoughts are helpful, code is absolutely required. Always output one and only one code block in your response. Output code in the following format:\\n```python\\nyour code\\n```'}]\n",
      "```python\n",
      "import sympy\n",
      "\n",
      "# Define the number before which we want the largest prime\n",
      "n = 1234485\n",
      "\n",
      "# Find the largest prime less than n\n",
      "largest_prime = sympy.prevprime(n)\n",
      "\n",
      "# Print the largest prime\n",
      "largest_prime\n",
      "```\n"
     ]
    }
   ],
   "source": [
    "out=await writer(goal=\"计算1234485之前的最大质数。\")"
   ]
  },
  {
   "cell_type": "code",
   "execution_count": 4,
   "metadata": {},
   "outputs": [
    {
     "name": "stdout",
     "output_type": "stream",
     "text": [
      "import sympy\n",
      "\n",
      "# Define the number before which we want the largest prime\n",
      "n = 1234485\n",
      "\n",
      "# Find the largest prime less than n\n",
      "largest_prime = sympy.prevprime(n)\n",
      "\n",
      "# Print the largest prime\n",
      "largest_prime\n"
     ]
    }
   ],
   "source": [
    "print(out)"
   ]
  },
  {
   "cell_type": "code",
   "execution_count": 5,
   "metadata": {},
   "outputs": [
    {
     "data": {
      "text/plain": [
       "471000"
      ]
     },
     "execution_count": 5,
     "metadata": {},
     "output_type": "execute_result"
    }
   ],
   "source": [
    "result = 785 * 600\n",
    "result"
   ]
  },
  {
   "cell_type": "code",
   "execution_count": null,
   "metadata": {},
   "outputs": [],
   "source": []
  }
 ],
 "metadata": {
  "kernelspec": {
   "display_name": "metagpt",
   "language": "python",
   "name": "python3"
  },
  "language_info": {
   "codemirror_mode": {
    "name": "ipython",
    "version": 3
   },
   "file_extension": ".py",
   "mimetype": "text/x-python",
   "name": "python",
   "nbconvert_exporter": "python",
   "pygments_lexer": "ipython3",
   "version": "3.10.10"
  }
 },
 "nbformat": 4,
 "nbformat_minor": 2
}

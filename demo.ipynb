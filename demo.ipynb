{
 "cells": [
  {
   "cell_type": "code",
   "execution_count": 1,
   "metadata": {
    "ExecuteTime": {
     "end_time": "2024-06-22T00:44:50.466430600Z",
     "start_time": "2024-06-22T00:44:50.238758100Z"
    }
   },
   "outputs": [],
   "source": [
    "from ikun.core import OpenAIBackend,Action\n",
    "from ikun.nn import Planner\n",
    "from ikun.function import *"
   ]
  },
  {
   "cell_type": "code",
   "execution_count": 2,
   "metadata": {
    "ExecuteTime": {
     "end_time": "2024-06-22T00:44:56.485700700Z",
     "start_time": "2024-06-22T00:44:55.905043100Z"
    }
   },
   "outputs": [],
   "source": [
    "OpenAIBackend.config(api_key = \"sk-cRk2eMr7OMij3FKyD4C41a291c9943018728C3D479Dd1e99\",\n",
    "                     base_url = \"https://chatapi.onechats.top/v1/\")"
   ]
  },
  {
   "cell_type": "code",
   "execution_count": 3,
   "metadata": {
    "collapsed": false,
    "ExecuteTime": {
     "end_time": "2024-06-22T00:44:57.065169900Z",
     "start_time": "2024-06-22T00:44:57.052794700Z"
    }
   },
   "outputs": [],
   "source": [
    "lower_model=OpenAIBackend(model=\"gpt-3.5-turbo\")\n",
    "higher_model=OpenAIBackend(model=\"gpt-4o\")"
   ]
  },
  {
   "cell_type": "code",
   "execution_count": 4,
   "metadata": {
    "ExecuteTime": {
     "end_time": "2024-06-22T00:44:58.311593100Z",
     "start_time": "2024-06-22T00:44:58.293591300Z"
    }
   },
   "outputs": [],
   "source": [
    "task_type_desc=[\n",
    "    {\"name\":\"eda\",\"desc\":\"For performing exploratory data analysis\"},\n",
    "    {\"name\":\"data preprocessing\",\"desc\":\"For preprocessing dataset in a data analysis or machine learning task ONLY,general data operation doesn't fall into this type\"},\n",
    "    { \"name\":\"feature engineering\",\"desc\":\"Only for creating new columns for input data.\"},\n",
    "    {\"name\":\"other\", \"desc\":\"Any tasks not in the defined categories\"} \n",
    "]\n",
    "request=\"Let the `sparkle' operation on positive integer $n$ consist of calculating the sum of the digits of $n$ and taking its factorial, e.g. the sparkle of 13 is $4! = 24$. A robot starts with a positive integer on a blackboard, then after each second for the rest of eternity, replaces the number on the board with its sparkle. For some `special' numbers, if they're the first number, then eventually every number that appears will be less than 6. How many such special numbers are there with at most 36 digits?\""
   ]
  },
  {
   "cell_type": "code",
   "execution_count": 5,
   "metadata": {
    "collapsed": false,
    "ExecuteTime": {
     "end_time": "2024-06-22T00:44:59.432143200Z",
     "start_time": "2024-06-22T00:44:59.421621800Z"
    }
   },
   "outputs": [],
   "source": [
    "class PlanAndAct(Action):\n",
    "    def __init__(self, **kwargs):\n",
    "        super().__init__(working_memory=[],memory=[],name=\"Data Expert\",**kwargs)\n",
    "\n",
    "        self.goal=request\n",
    "        self.llm=OpenAIBackend(model=\"gpt-3.5-turbo\")\n",
    "        self.planner=Planner(context=self.working_memory,task_type_desc=task_type_desc,memory=[])\n",
    "    async def forward(self, x):\n",
    "        self.working_memory.append({\"role\":\"user\",\"content\":x})\n",
    "        x=await self.planner({\"content\":self.working_memory})\n",
    "        x=transform_text(x)\n",
    "        x=text_to_json(x)\n",
    "        x=[i[\"data\"]for i in x if \"data\" in i][0]\n",
    "        x.\n",
    "        \n",
    "        return out \n",
    "a=PlanAndAct()"
   ]
  },
  {
   "cell_type": "code",
   "execution_count": 14,
   "metadata": {},
   "outputs": [
    {
     "name": "stdout",
     "output_type": "stream",
     "text": [
      "[{'role': 'JJPrompt', 'content': [{'role': 'user', 'content': '\\n# Context:\\n\\n# Available Task Types:\\nthink: For performing exploratory data analysis \\n\\ndata preprocessing: For preprocessing dataset in a data analysis or machine learning task ONLY,general data operation doesn\\'t fall into this type \\n\\nfeature engineering: Only for creating new columns for input data. \\n\\nother: Any tasks not in the defined categories \\n\\n\\n# Task:\\nBased on the context, write a plan or modify an existing plan of what you should do to achieve the goal. A plan consists of one to {max_tasks} tasks.\\nIf you are modifying an existing plan, carefully follow the instruction, don\\'t make unnecessary changes. Give the whole plan unless instructed to modify only one task of the plan.\\nIf you encounter errors on the current task, revise and output the current single task only.\\nOutput a list of jsons following the format:\\n```json\\n[\\n    {\\n        \"instruction\": \"what you should do in this task, one short phrase or sentence\",\\n        \"task_type\": \"type of this task, should be one of Available Task Types\",\\n    },\\n    ...\\n]\\n```'}]}, {'role': 'OpenAIBackend', 'content': '```json\\n[\\n    {\\n        \"instruction\": \"Load and inspect the dataset\",\\n        \"task_type\": \"think\"\\n    },\\n    {\\n        \"instruction\": \"Clean the dataset by handling missing values and removing duplicates\",\\n        \"task_type\": \"data preprocessing\"\\n    },\\n    {\\n        \"instruction\": \"Analyze the distribution of key features\",\\n        \"task_type\": \"think\"\\n    },\\n    {\\n        \"instruction\": \"Engineer new features based on existing data\",\\n        \"task_type\": \"feature engineering\"\\n    },\\n    {\\n        \"instruction\": \"Summarize findings and prepare data for modeling\",\\n        \"task_type\": \"think\"\\n    }\\n]\\n```'}]\n"
     ]
    }
   ],
   "source": [
    "out=await a(request)"
   ]
  },
  {
   "cell_type": "code",
   "execution_count": 15,
   "metadata": {},
   "outputs": [
    {
     "name": "stdout",
     "output_type": "stream",
     "text": [
      "```json\n",
      "[\n",
      "    {\n",
      "        \"instruction\": \"Load and inspect the dataset\",\n",
      "        \"task_type\": \"think\"\n",
      "    },\n",
      "    {\n",
      "        \"instruction\": \"Clean the dataset by handling missing values and removing duplicates\",\n",
      "        \"task_type\": \"data preprocessing\"\n",
      "    },\n",
      "    {\n",
      "        \"instruction\": \"Analyze the distribution of key features\",\n",
      "        \"task_type\": \"think\"\n",
      "    },\n",
      "    {\n",
      "        \"instruction\": \"Engineer new features based on existing data\",\n",
      "        \"task_type\": \"feature engineering\"\n",
      "    },\n",
      "    {\n",
      "        \"instruction\": \"Summarize findings and prepare data for modeling\",\n",
      "        \"task_type\": \"think\"\n",
      "    }\n",
      "]\n",
      "```\n"
     ]
    }
   ],
   "source": [
    "print(out)"
   ]
  },
  {
   "cell_type": "code",
   "execution_count": 14,
   "metadata": {},
   "outputs": [],
   "source": [
    "PLAN_PROMPT = \"\"\"\n",
    "# Context:\n",
    "{{context}}\n",
    "# Available Task Types:\n",
    "{% for task in task_type_desc -%}\n",
    "    {{ task.name }}: {{ task.desc }} \\n\n",
    "{% endfor %}\n",
    "{{task_type_desc}}\n",
    "# Task:\n",
    "Based on the context, write a plan or modify an existing plan of what you should do to achieve the goal. A plan consists of one to {max_tasks} tasks.\n",
    "If you are modifying an existing plan, carefully follow the instruction, don't make unnecessary changes. Give the whole plan unless instructed to modify only one task of the plan.\n",
    "If you encounter errors on the current task, revise and output the current single task only.\n",
    "Output a list of jsons following the format:\n",
    "```json\n",
    "[\n",
    "    {\n",
    "        \"instruction\": \"what you should do in this task, one short phrase or sentence\",\n",
    "        \"task_type\": \"type of this task, should be one of Available Task Types\",\n",
    "    },\n",
    "    ...\n",
    "]\n",
    "```\n",
    "\"\"\"\n",
    "prompt=JJPrompt(PLAN_PROMPT, task_type_desc=task_type_desc)"
   ]
  },
  {
   "cell_type": "code",
   "execution_count": 15,
   "metadata": {},
   "outputs": [
    {
     "data": {
      "text/plain": [
       "[{'role': 'user',\n",
       "  'content': '\\n# Context:\\nLet the `sparkle\\' operation on positive integer $n$ consist of calculating the sum of the digits of $n$ and taking its factorial, e.g. the sparkle of 13 is $4! = 24$. A robot starts with a positive integer on a blackboard, then after each second for the rest of eternity, replaces the number on the board with its sparkle. For some `special\\' numbers, if they\\'re the first number, then eventually every number that appears will be less than 6. How many such special numbers are there with at most 36 digits?\\n# Available Task Types:\\neda: For performing exploratory data analysis \\n\\ndata preprocessing: For preprocessing dataset in a data analysis or machine learning task ONLY,general data operation doesn\\'t fall into this type \\n\\nfeature engineering: Only for creating new columns for input data. \\n\\nother: Any tasks not in the defined categories \\n\\n\\n[{\\'name\\': \\'eda\\', \\'desc\\': \\'For performing exploratory data analysis\\'}, {\\'name\\': \\'data preprocessing\\', \\'desc\\': \"For preprocessing dataset in a data analysis or machine learning task ONLY,general data operation doesn\\'t fall into this type\"}, {\\'name\\': \\'feature engineering\\', \\'desc\\': \\'Only for creating new columns for input data.\\'}, {\\'name\\': \\'other\\', \\'desc\\': \\'Any tasks not in the defined categories\\'}]\\n# Task:\\nBased on the context, write a plan or modify an existing plan of what you should do to achieve the goal. A plan consists of one to {max_tasks} tasks.\\nIf you are modifying an existing plan, carefully follow the instruction, don\\'t make unnecessary changes. Give the whole plan unless instructed to modify only one task of the plan.\\nIf you encounter errors on the current task, revise and output the current single task only.\\nOutput a list of jsons following the format:\\n```json\\n[\\n    {\\n        \"instruction\": \"what you should do in this task, one short phrase or sentence\",\\n        \"task_type\": \"type of this task, should be one of Available Task Types\",\\n    },\\n    ...\\n]\\n```'}]"
      ]
     },
     "execution_count": 15,
     "metadata": {},
     "output_type": "execute_result"
    }
   ],
   "source": [
    "await prompt({\"context\":request})"
   ]
  },
  {
   "cell_type": "code",
   "execution_count": null,
   "metadata": {},
   "outputs": [],
   "source": [
    "a"
   ]
  }
 ],
 "metadata": {
  "kernelspec": {
   "display_name": "metagpt",
   "language": "python",
   "name": "python3"
  },
  "language_info": {
   "codemirror_mode": {
    "name": "ipython",
    "version": 3
   },
   "file_extension": ".py",
   "mimetype": "text/x-python",
   "name": "python",
   "nbconvert_exporter": "python",
   "pygments_lexer": "ipython3",
   "version": "3.10.10"
  }
 },
 "nbformat": 4,
 "nbformat_minor": 2
}
